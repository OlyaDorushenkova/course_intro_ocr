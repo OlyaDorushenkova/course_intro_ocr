{
 "cells": [
  {
   "cell_type": "code",
   "execution_count": 1,
   "id": "2685783b-d09e-4363-8031-3860fb7c4f5b",
   "metadata": {},
   "outputs": [],
   "source": [
    "import warnings\n",
    "warnings.filterwarnings('ignore')\n",
    "\n",
    "from pathlib import Path\n",
    "from course_intro_ocr_t1.data import MidvPackage\n",
    "from tqdm import tqdm\n",
    "from matplotlib import pyplot as plt\n",
    "import numpy as np\n",
    "\n",
    "import albumentations as albu\n",
    "\n",
    "from iglovikov_helper_functions.utils.image_utils import load_rgb, pad, unpad\n",
    "from iglovikov_helper_functions.dl.pytorch.utils import tensor_from_rgb_image\n",
    "\n",
    "import torch\n",
    "\n",
    "import cv2 \n",
    "from PIL import Image\n",
    "\n",
    "from midv500models.pre_trained_models import create_model"
   ]
  },
  {
   "cell_type": "markdown",
   "id": "bdbf307a-4b94-4747-8132-59a83739000c",
   "metadata": {},
   "source": [
    "# Загрузка данных"
   ]
  },
  {
   "cell_type": "code",
   "execution_count": 2,
   "id": "9e291e6a-7d07-4bd5-9e13-b35e4eca5b6c",
   "metadata": {},
   "outputs": [
    {
     "data": {
      "text/plain": [
       "(50, course_intro_ocr_t1.data.MidvPackage)"
      ]
     },
     "execution_count": 2,
     "metadata": {},
     "output_type": "execute_result"
    }
   ],
   "source": [
    "DATASET_PATH = Path().absolute().parent.parent /  'midv500_compressed'\n",
    "assert DATASET_PATH.exists(), DATASET_PATH.absolute()\n",
    "\n",
    "data_packs = MidvPackage.read_midv500_dataset(DATASET_PATH)\n",
    "len(data_packs), type(data_packs[0])"
   ]
  },
  {
   "cell_type": "markdown",
   "id": "aa0b1389-57bb-4866-b94d-7c120911a10a",
   "metadata": {},
   "source": [
    "# Основная Часть\n",
    "Была использована предобученная модель на основе UNET."
   ]
  },
  {
   "cell_type": "code",
   "execution_count": 4,
   "id": "b61cd63b-981b-42a8-b16d-fd756ef9dd62",
   "metadata": {},
   "outputs": [],
   "source": [
    "model = create_model(\"Unet_resnet34_2020-05-19\")\n",
    "model.eval()\n",
    "\n",
    "def prep(image):\n",
    "    image = np.array(image)\n",
    "    transform = albu.Compose([albu.Normalize(p=1)], p=1)\n",
    "    padded_image, pads = pad(image, factor=32, border=cv2.BORDER_CONSTANT)\n",
    "\n",
    "    x = transform(image=padded_image)[\"image\"]\n",
    "    x = torch.unsqueeze(tensor_from_rgb_image(x), 0)\n",
    "    return x, pads"
   ]
  },
  {
   "cell_type": "code",
   "execution_count": 5,
   "id": "3185793f-e791-427e-ad82-6265e5ba34e8",
   "metadata": {},
   "outputs": [],
   "source": [
    "def post(prediction, pads):\n",
    "    mask = (prediction > 0).cpu().numpy().astype(np.uint8)\n",
    "    mask = unpad(mask, pads)\n",
    "    \n",
    "    for i in range(0,800):\n",
    "        for j in range(0,450):\n",
    "            if(mask[i][j] > 0 ):\n",
    "                mask[i][j] = 255\n",
    "    ret, threshold = cv2.threshold(mask, 127, 255, cv2.THRESH_BINARY)\n",
    "    contours, hierarchy = cv2.findContours(threshold, cv2.RETR_EXTERNAL, cv2.CHAIN_APPROX_SIMPLE)\n",
    "    for contour in contours:\n",
    "        epsilon = 0.04 * cv2.arcLength(contour, True)\n",
    "        approx = cv2.approxPolyDP(contour, epsilon, True)\n",
    "    \n",
    "    if len(approx) == 4:\n",
    "        white_figure_coordinates = approx\n",
    "\n",
    "    white_figure_coordinates  = np.array(white_figure_coordinates)\n",
    "    white_figure_coordinates  = white_figure_coordinates.astype(np.float64)\n",
    "\n",
    "    for i in range(4):\n",
    "        for j in range(2):\n",
    "            if (j == 0):\n",
    "                white_figure_coordinates[i][0][j] = float(white_figure_coordinates[i][0][j]) / 450.0\n",
    "            else:\n",
    "                white_figure_coordinates[i][0][j] = float(white_figure_coordinates[i][0][j]) / 800.0\n",
    "    \n",
    "    white_figure_coordinates = white_figure_coordinates.reshape(4,2)\n",
    "    return white_figure_coordinates\n"
   ]
  },
  {
   "cell_type": "code",
   "execution_count": 6,
   "id": "48b88420-1a2d-4375-885d-5f60c7e73e3a",
   "metadata": {},
   "outputs": [
    {
     "name": "stderr",
     "output_type": "stream",
     "text": [
      "  2%|▉                                           | 1/50 [00:51<41:45, 51.13s/it]"
     ]
    },
    {
     "name": "stdout",
     "output_type": "stream",
     "text": [
      "local variable 'white_figure_coordinates' referenced before assignment\n",
      "local variable 'white_figure_coordinates' referenced before assignment\n",
      "local variable 'white_figure_coordinates' referenced before assignment\n",
      "local variable 'white_figure_coordinates' referenced before assignment\n"
     ]
    },
    {
     "name": "stderr",
     "output_type": "stream",
     "text": [
      "  4%|█▋                                       | 2/50 [06:19<2:51:15, 214.08s/it]"
     ]
    },
    {
     "name": "stdout",
     "output_type": "stream",
     "text": [
      "local variable 'approx' referenced before assignment\n",
      "local variable 'approx' referenced before assignment\n",
      "local variable 'approx' referenced before assignment\n",
      "local variable 'approx' referenced before assignment\n",
      "local variable 'approx' referenced before assignment\n",
      "local variable 'approx' referenced before assignment\n",
      "local variable 'approx' referenced before assignment\n",
      "local variable 'approx' referenced before assignment\n",
      "local variable 'approx' referenced before assignment\n",
      "local variable 'approx' referenced before assignment\n"
     ]
    },
    {
     "name": "stderr",
     "output_type": "stream",
     "text": [
      "  6%|██▍                                      | 3/50 [11:45<3:27:55, 265.43s/it]"
     ]
    },
    {
     "name": "stdout",
     "output_type": "stream",
     "text": [
      "local variable 'white_figure_coordinates' referenced before assignment\n",
      "local variable 'white_figure_coordinates' referenced before assignment\n",
      "local variable 'white_figure_coordinates' referenced before assignment\n",
      "local variable 'white_figure_coordinates' referenced before assignment\n"
     ]
    },
    {
     "name": "stderr",
     "output_type": "stream",
     "text": [
      " 14%|█████▉                                    | 7/50 [15:27<1:05:28, 91.35s/it]"
     ]
    },
    {
     "name": "stdout",
     "output_type": "stream",
     "text": [
      "local variable 'white_figure_coordinates' referenced before assignment\n",
      "local variable 'white_figure_coordinates' referenced before assignment\n",
      "local variable 'white_figure_coordinates' referenced before assignment\n",
      "local variable 'white_figure_coordinates' referenced before assignment\n",
      "local variable 'white_figure_coordinates' referenced before assignment\n",
      "local variable 'white_figure_coordinates' referenced before assignment\n",
      "local variable 'white_figure_coordinates' referenced before assignment\n",
      "local variable 'white_figure_coordinates' referenced before assignment\n",
      "local variable 'white_figure_coordinates' referenced before assignment\n",
      "local variable 'white_figure_coordinates' referenced before assignment\n",
      "local variable 'white_figure_coordinates' referenced before assignment\n",
      "local variable 'white_figure_coordinates' referenced before assignment\n",
      "local variable 'white_figure_coordinates' referenced before assignment\n",
      "local variable 'white_figure_coordinates' referenced before assignment\n",
      "local variable 'white_figure_coordinates' referenced before assignment\n",
      "local variable 'white_figure_coordinates' referenced before assignment\n",
      "local variable 'white_figure_coordinates' referenced before assignment\n",
      "local variable 'white_figure_coordinates' referenced before assignment\n",
      "local variable 'white_figure_coordinates' referenced before assignment\n",
      "local variable 'white_figure_coordinates' referenced before assignment\n",
      "local variable 'white_figure_coordinates' referenced before assignment\n",
      "local variable 'white_figure_coordinates' referenced before assignment\n",
      "local variable 'white_figure_coordinates' referenced before assignment\n"
     ]
    },
    {
     "name": "stderr",
     "output_type": "stream",
     "text": [
      " 18%|███████▍                                 | 9/50 [21:50<1:29:59, 131.68s/it]"
     ]
    },
    {
     "name": "stdout",
     "output_type": "stream",
     "text": [
      "local variable 'white_figure_coordinates' referenced before assignment\n",
      "local variable 'white_figure_coordinates' referenced before assignment\n",
      "local variable 'white_figure_coordinates' referenced before assignment\n",
      "local variable 'white_figure_coordinates' referenced before assignment\n",
      "local variable 'white_figure_coordinates' referenced before assignment\n",
      "local variable 'white_figure_coordinates' referenced before assignment\n",
      "local variable 'white_figure_coordinates' referenced before assignment\n",
      "local variable 'white_figure_coordinates' referenced before assignment\n",
      "local variable 'white_figure_coordinates' referenced before assignment\n",
      "local variable 'white_figure_coordinates' referenced before assignment\n",
      "local variable 'white_figure_coordinates' referenced before assignment\n",
      "local variable 'white_figure_coordinates' referenced before assignment\n",
      "local variable 'white_figure_coordinates' referenced before assignment\n",
      "local variable 'white_figure_coordinates' referenced before assignment\n",
      "local variable 'white_figure_coordinates' referenced before assignment\n"
     ]
    },
    {
     "name": "stderr",
     "output_type": "stream",
     "text": [
      " 22%|████████▊                               | 11/50 [28:03<1:36:14, 148.07s/it]"
     ]
    },
    {
     "name": "stdout",
     "output_type": "stream",
     "text": [
      "local variable 'approx' referenced before assignment\n",
      "local variable 'white_figure_coordinates' referenced before assignment\n",
      "local variable 'white_figure_coordinates' referenced before assignment\n",
      "local variable 'approx' referenced before assignment\n",
      "local variable 'approx' referenced before assignment\n",
      "local variable 'approx' referenced before assignment\n",
      "local variable 'approx' referenced before assignment\n",
      "local variable 'white_figure_coordinates' referenced before assignment\n",
      "local variable 'approx' referenced before assignment\n",
      "local variable 'approx' referenced before assignment\n",
      "local variable 'approx' referenced before assignment\n",
      "local variable 'white_figure_coordinates' referenced before assignment\n",
      "local variable 'approx' referenced before assignment\n",
      "local variable 'approx' referenced before assignment\n",
      "local variable 'approx' referenced before assignment\n"
     ]
    },
    {
     "name": "stderr",
     "output_type": "stream",
     "text": [
      " 28%|███████████▏                            | 14/50 [35:37<1:17:13, 128.71s/it]"
     ]
    },
    {
     "name": "stdout",
     "output_type": "stream",
     "text": [
      "local variable 'white_figure_coordinates' referenced before assignment\n",
      "local variable 'white_figure_coordinates' referenced before assignment\n"
     ]
    },
    {
     "name": "stderr",
     "output_type": "stream",
     "text": [
      " 32%|█████████████▊                             | 16/50 [37:22<50:45, 89.59s/it]"
     ]
    },
    {
     "name": "stdout",
     "output_type": "stream",
     "text": [
      "local variable 'white_figure_coordinates' referenced before assignment\n",
      "local variable 'white_figure_coordinates' referenced before assignment\n"
     ]
    },
    {
     "name": "stderr",
     "output_type": "stream",
     "text": [
      " 40%|█████████████████▏                         | 20/50 [41:07<32:14, 64.49s/it]"
     ]
    },
    {
     "name": "stdout",
     "output_type": "stream",
     "text": [
      "local variable 'white_figure_coordinates' referenced before assignment\n"
     ]
    },
    {
     "name": "stderr",
     "output_type": "stream",
     "text": [
      " 44%|██████████████████▉                        | 22/50 [43:11<29:31, 63.29s/it]"
     ]
    },
    {
     "name": "stdout",
     "output_type": "stream",
     "text": [
      "local variable 'white_figure_coordinates' referenced before assignment\n"
     ]
    },
    {
     "name": "stderr",
     "output_type": "stream",
     "text": [
      " 46%|███████████████████▊                       | 23/50 [44:12<28:14, 62.76s/it]"
     ]
    },
    {
     "name": "stdout",
     "output_type": "stream",
     "text": [
      "local variable 'white_figure_coordinates' referenced before assignment\n",
      "local variable 'white_figure_coordinates' referenced before assignment\n",
      "local variable 'white_figure_coordinates' referenced before assignment\n",
      "local variable 'white_figure_coordinates' referenced before assignment\n",
      "local variable 'white_figure_coordinates' referenced before assignment\n",
      "local variable 'white_figure_coordinates' referenced before assignment\n"
     ]
    },
    {
     "name": "stderr",
     "output_type": "stream",
     "text": [
      " 50%|█████████████████████▌                     | 25/50 [46:14<25:37, 61.48s/it]"
     ]
    },
    {
     "name": "stdout",
     "output_type": "stream",
     "text": [
      "local variable 'white_figure_coordinates' referenced before assignment\n",
      "local variable 'white_figure_coordinates' referenced before assignment\n",
      "local variable 'white_figure_coordinates' referenced before assignment\n"
     ]
    },
    {
     "name": "stderr",
     "output_type": "stream",
     "text": [
      " 54%|██████████████████████▋                   | 27/50 [53:09<47:23, 123.61s/it]"
     ]
    },
    {
     "name": "stdout",
     "output_type": "stream",
     "text": [
      "local variable 'white_figure_coordinates' referenced before assignment\n"
     ]
    },
    {
     "name": "stderr",
     "output_type": "stream",
     "text": [
      " 58%|████████████████████████▉                  | 29/50 [55:15<32:24, 92.61s/it]"
     ]
    },
    {
     "name": "stdout",
     "output_type": "stream",
     "text": [
      "local variable 'white_figure_coordinates' referenced before assignment\n",
      "local variable 'white_figure_coordinates' referenced before assignment\n",
      "local variable 'white_figure_coordinates' referenced before assignment\n",
      "local variable 'white_figure_coordinates' referenced before assignment\n",
      "local variable 'white_figure_coordinates' referenced before assignment\n",
      "local variable 'white_figure_coordinates' referenced before assignment\n",
      "local variable 'white_figure_coordinates' referenced before assignment\n",
      "local variable 'white_figure_coordinates' referenced before assignment\n",
      "local variable 'approx' referenced before assignment\n",
      "local variable 'approx' referenced before assignment\n",
      "local variable 'approx' referenced before assignment\n",
      "local variable 'approx' referenced before assignment\n",
      "local variable 'approx' referenced before assignment\n",
      "local variable 'approx' referenced before assignment\n",
      "local variable 'approx' referenced before assignment\n",
      "local variable 'approx' referenced before assignment\n"
     ]
    },
    {
     "name": "stderr",
     "output_type": "stream",
     "text": [
      " 62%|████████████████████████▊               | 31/50 [1:01:25<40:27, 127.77s/it]"
     ]
    },
    {
     "name": "stdout",
     "output_type": "stream",
     "text": [
      "local variable 'white_figure_coordinates' referenced before assignment\n",
      "local variable 'white_figure_coordinates' referenced before assignment\n",
      "local variable 'white_figure_coordinates' referenced before assignment\n",
      "local variable 'white_figure_coordinates' referenced before assignment\n"
     ]
    },
    {
     "name": "stderr",
     "output_type": "stream",
     "text": [
      " 70%|████████████████████████████▋            | 35/50 [1:04:55<17:43, 70.88s/it]"
     ]
    },
    {
     "name": "stdout",
     "output_type": "stream",
     "text": [
      "local variable 'white_figure_coordinates' referenced before assignment\n",
      "local variable 'white_figure_coordinates' referenced before assignment\n",
      "local variable 'white_figure_coordinates' referenced before assignment\n",
      "local variable 'white_figure_coordinates' referenced before assignment\n"
     ]
    },
    {
     "name": "stderr",
     "output_type": "stream",
     "text": [
      " 74%|██████████████████████████████▎          | 37/50 [1:06:56<14:09, 65.38s/it]"
     ]
    },
    {
     "name": "stdout",
     "output_type": "stream",
     "text": [
      "local variable 'white_figure_coordinates' referenced before assignment\n",
      "local variable 'white_figure_coordinates' referenced before assignment\n"
     ]
    },
    {
     "name": "stderr",
     "output_type": "stream",
     "text": [
      " 76%|███████████████████████████████▏         | 38/50 [1:07:49<12:19, 61.59s/it]"
     ]
    },
    {
     "name": "stdout",
     "output_type": "stream",
     "text": [
      "local variable 'white_figure_coordinates' referenced before assignment\n"
     ]
    },
    {
     "name": "stderr",
     "output_type": "stream",
     "text": [
      " 90%|████████████████████████████████████▉    | 45/50 [1:14:01<04:30, 54.19s/it]"
     ]
    },
    {
     "name": "stdout",
     "output_type": "stream",
     "text": [
      "local variable 'white_figure_coordinates' referenced before assignment\n"
     ]
    },
    {
     "name": "stderr",
     "output_type": "stream",
     "text": [
      " 92%|█████████████████████████████████████▋   | 46/50 [1:14:56<03:37, 54.32s/it]"
     ]
    },
    {
     "name": "stdout",
     "output_type": "stream",
     "text": [
      "local variable 'white_figure_coordinates' referenced before assignment\n",
      "local variable 'white_figure_coordinates' referenced before assignment\n"
     ]
    },
    {
     "name": "stderr",
     "output_type": "stream",
     "text": [
      "100%|█████████████████████████████████████████| 50/50 [1:18:33<00:00, 94.28s/it]\n"
     ]
    }
   ],
   "source": [
    "results_dict = dict()\n",
    "\n",
    "for dp in tqdm(data_packs):\n",
    "    for i in range(len(dp)):\n",
    "        if dp[i].is_test_split():\n",
    "            try:\n",
    "                x, pads = prep(dp[i].image)\n",
    "                with torch.no_grad():\n",
    "                    prediction = model(x)[0][0]\n",
    "                results_dict[dp[i].unique_key] = post(prediction, pads)\n",
    "            except Exception as exc:\n",
    "                # Для пропущенных в словаре ключей в метриках автоаматически засчитается IoU=0\n",
    "                print(exc)"
   ]
  },
  {
   "cell_type": "code",
   "execution_count": 16,
   "id": "c8b251bc-1c1c-49b2-9156-d60dc142e50d",
   "metadata": {},
   "outputs": [],
   "source": [
    "dump_results_dict(results_dict, Path() / 'pred.json')"
   ]
  },
  {
   "cell_type": "code",
   "execution_count": null,
   "id": "6b3144c6-7b90-4e07-abbe-51f4646afa44",
   "metadata": {},
   "outputs": [],
   "source": []
  }
 ],
 "metadata": {
  "kernelspec": {
   "display_name": "Python 3 (ipykernel)",
   "language": "python",
   "name": "python3"
  },
  "language_info": {
   "codemirror_mode": {
    "name": "ipython",
    "version": 3
   },
   "file_extension": ".py",
   "mimetype": "text/x-python",
   "name": "python",
   "nbconvert_exporter": "python",
   "pygments_lexer": "ipython3",
   "version": "3.10.12"
  }
 },
 "nbformat": 4,
 "nbformat_minor": 5
}
