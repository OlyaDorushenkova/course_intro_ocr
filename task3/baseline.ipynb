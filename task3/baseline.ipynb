{
 "cells": [
  {
   "cell_type": "code",
   "execution_count": 1,
   "id": "b4a46b6f-11f4-4361-97b4-f1ca915a9c68",
   "metadata": {},
   "outputs": [],
   "source": [
    "import math\n",
    "import cv\n",
    "import matplotlib.pyplot as plt\n",
    "import numpy as np\n",
    "import warnings\n",
    "warnings.filterwarnings('ignore')\n",
    "import cv2\n",
    "import glob2"
   ]
  },
  {
   "cell_type": "code",
   "execution_count": 2,
   "id": "1604bd04-179f-4e17-98bc-225114097be6",
   "metadata": {},
   "outputs": [],
   "source": [
    "def find(image):\n",
    "    gray = cv2.cvtColor(image, cv2.COLOR_BGR2GRAY)\n",
    "    gradX = cv2.Sobel(gray, ddepth = cv2.CV_32F, dx = 1, dy = 0, ksize = -1)\n",
    "    gradY = cv2.Sobel(gray, ddepth = cv2.CV_32F, dx = 0, dy = 1, ksize = -1)\n",
    "    gradient = cv2.subtract(gradX, gradY)\n",
    "    gradient = cv2.convertScaleAbs(gradient)\n",
    "    bl = cv2.blur(gradient, (90, 90))\n",
    "    (_, thresh) = cv2.threshold(bl, 70, 70, cv2.THRESH_BINARY)\n",
    "    kernel = cv2.getStructuringElement(cv2.MORPH_RECT, (20, 7))\n",
    "    closed = cv2.morphologyEx(thresh, cv2.MORPH_CLOSE, kernel)\n",
    "    closed = cv2.erode(closed, None, iterations = 4)\n",
    "    closed = cv2.dilate(closed, None, iterations = 4)\n",
    "    return closed\n",
    "    \n",
    "def ans(closed):\n",
    "    (cnts, _) = cv2.findContours(closed.copy(), cv2.RETR_EXTERNAL,\n",
    "    cv2.CHAIN_APPROX_SIMPLE)\n",
    "    c = sorted(cnts, key = cv2.contourArea, reverse = True)[0]\n",
    "    rect = cv2.minAreaRect(c)\n",
    "    box = np.int0(cv2.boxPoints(rect))\n",
    "    return box\n",
    "\n",
    "    "
   ]
  },
  {
   "cell_type": "code",
   "execution_count": 3,
   "id": "cc18f4c2-c7a4-45e0-99dc-c7fde5470ef7",
   "metadata": {},
   "outputs": [],
   "source": [
    "anss = []\n",
    "for name in glob2.glob(\"./Images/**.png\"): \n",
    "    image = cv2.imdecode(np.fromfile(name, dtype=np.uint8), cv2.IMREAD_COLOR)\n",
    "    box = ans(find(image))\n",
    "    anss.append([name, \"-\" ,np.abs(box[0][0]), np.abs(box[0][1]), np.abs(box[1][0]), np.abs(box[1][1]), np.abs(box[2][0]),\n",
    "                 np.abs(box[2][1]), np.abs(box[3][0]), np.abs(box[3][1]), \"-\"])\n"
   ]
  },
  {
   "cell_type": "code",
   "execution_count": 4,
   "id": "340524e7-2aea-4f72-8b69-0b1ce9e16837",
   "metadata": {},
   "outputs": [],
   "source": [
    "import pandas as pd\n",
    "answer = pd.DataFrame(anss)"
   ]
  },
  {
   "cell_type": "code",
   "execution_count": 5,
   "id": "1ab6574b-6282-4166-8c98-97cb1101b96b",
   "metadata": {},
   "outputs": [],
   "source": [
    "answer.to_csv('answer.csv', index = False, header = False)"
   ]
  },
  {
   "cell_type": "code",
   "execution_count": null,
   "id": "8169e5d7-86df-4959-95ef-0103ed3c62ae",
   "metadata": {},
   "outputs": [],
   "source": []
  }
 ],
 "metadata": {
  "kernelspec": {
   "display_name": "Python 3 (ipykernel)",
   "language": "python",
   "name": "python3"
  },
  "language_info": {
   "codemirror_mode": {
    "name": "ipython",
    "version": 3
   },
   "file_extension": ".py",
   "mimetype": "text/x-python",
   "name": "python",
   "nbconvert_exporter": "python",
   "pygments_lexer": "ipython3",
   "version": "3.10.12"
  }
 },
 "nbformat": 4,
 "nbformat_minor": 5
}
